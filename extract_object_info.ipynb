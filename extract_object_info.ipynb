{
 "cells": [
  {
   "cell_type": "code",
   "execution_count": 90,
   "metadata": {},
   "outputs": [],
   "source": [
    "import os\n",
    "from functools import reduce\n",
    "from glob import glob\n",
    "from shutil import move\n",
    "from xml.etree import ElementTree as et\n",
    "\n",
    "import pandas as pd"
   ]
  },
  {
   "cell_type": "code",
   "execution_count": 91,
   "metadata": {},
   "outputs": [],
   "source": [
    "xml_list = glob('./Imagens/*.xml')\n",
    "xml_list = list(map(lambda x: x.replace('\\\\','/'),xml_list))"
   ]
  },
  {
   "cell_type": "code",
   "execution_count": 92,
   "metadata": {},
   "outputs": [],
   "source": [
    "# step-2: read xml files\n",
    "# from each xml file we need to extract\n",
    "# filename, size(width, height), object(name, xmin, xmax, ymin, ymax)\n",
    "def extract_text(filename):\n",
    "    tree = et.parse(filename)\n",
    "    root = tree.getroot()\n",
    "\n",
    "    # extract filename\n",
    "    image_name = root.find('filename').text\n",
    "    # width and height of the image\n",
    "    width = root.find('size').find('width').text\n",
    "    height = root.find('size').find('height').text\n",
    "    objs = root.findall('object')\n",
    "    parser = []\n",
    "    for obj in objs:\n",
    "        name = obj.find('name').text\n",
    "        bndbox = obj.find('bndbox')\n",
    "        xmin = bndbox.find('xmin').text\n",
    "        xmax = bndbox.find('xmax').text\n",
    "        ymin = bndbox.find('ymin').text\n",
    "        ymax = bndbox.find('ymax').text\n",
    "        parser.append([image_name, width, height, name,xmin,xmax,ymin,ymax])\n",
    "        \n",
    "    return parser"
   ]
  },
  {
   "cell_type": "code",
   "execution_count": 93,
   "metadata": {},
   "outputs": [],
   "source": [
    "parser_all = list(map(extract_text,xml_list))\n",
    "data = reduce(lambda x, y : x+y,parser_all)"
   ]
  },
  {
   "cell_type": "code",
   "execution_count": 94,
   "metadata": {},
   "outputs": [
    {
     "data": {
      "text/html": [
       "<div>\n",
       "<style scoped>\n",
       "    .dataframe tbody tr th:only-of-type {\n",
       "        vertical-align: middle;\n",
       "    }\n",
       "\n",
       "    .dataframe tbody tr th {\n",
       "        vertical-align: top;\n",
       "    }\n",
       "\n",
       "    .dataframe thead th {\n",
       "        text-align: right;\n",
       "    }\n",
       "</style>\n",
       "<table border=\"1\" class=\"dataframe\">\n",
       "  <thead>\n",
       "    <tr style=\"text-align: right;\">\n",
       "      <th></th>\n",
       "      <th>filename</th>\n",
       "      <th>width</th>\n",
       "      <th>height</th>\n",
       "      <th>name</th>\n",
       "      <th>xmin</th>\n",
       "      <th>xmax</th>\n",
       "      <th>ymin</th>\n",
       "      <th>ymax</th>\n",
       "    </tr>\n",
       "  </thead>\n",
       "  <tbody>\n",
       "    <tr>\n",
       "      <th>0</th>\n",
       "      <td>c_001.jpg</td>\n",
       "      <td>800</td>\n",
       "      <td>800</td>\n",
       "      <td>capacete</td>\n",
       "      <td>9</td>\n",
       "      <td>693</td>\n",
       "      <td>35</td>\n",
       "      <td>517</td>\n",
       "    </tr>\n",
       "    <tr>\n",
       "      <th>1</th>\n",
       "      <td>c_002.jpg</td>\n",
       "      <td>480</td>\n",
       "      <td>360</td>\n",
       "      <td>capacete</td>\n",
       "      <td>85</td>\n",
       "      <td>386</td>\n",
       "      <td>26</td>\n",
       "      <td>333</td>\n",
       "    </tr>\n",
       "    <tr>\n",
       "      <th>2</th>\n",
       "      <td>c_003.jpg</td>\n",
       "      <td>480</td>\n",
       "      <td>360</td>\n",
       "      <td>capacete</td>\n",
       "      <td>65</td>\n",
       "      <td>412</td>\n",
       "      <td>25</td>\n",
       "      <td>328</td>\n",
       "    </tr>\n",
       "    <tr>\n",
       "      <th>3</th>\n",
       "      <td>c_004.jpg</td>\n",
       "      <td>480</td>\n",
       "      <td>360</td>\n",
       "      <td>capacete</td>\n",
       "      <td>98</td>\n",
       "      <td>402</td>\n",
       "      <td>31</td>\n",
       "      <td>327</td>\n",
       "    </tr>\n",
       "    <tr>\n",
       "      <th>4</th>\n",
       "      <td>c_005.jpg</td>\n",
       "      <td>480</td>\n",
       "      <td>360</td>\n",
       "      <td>capacete</td>\n",
       "      <td>59</td>\n",
       "      <td>421</td>\n",
       "      <td>23</td>\n",
       "      <td>338</td>\n",
       "    </tr>\n",
       "  </tbody>\n",
       "</table>\n",
       "</div>"
      ],
      "text/plain": [
       "    filename width height      name xmin xmax ymin ymax\n",
       "0  c_001.jpg   800    800  capacete    9  693   35  517\n",
       "1  c_002.jpg   480    360  capacete   85  386   26  333\n",
       "2  c_003.jpg   480    360  capacete   65  412   25  328\n",
       "3  c_004.jpg   480    360  capacete   98  402   31  327\n",
       "4  c_005.jpg   480    360  capacete   59  421   23  338"
      ]
     },
     "execution_count": 94,
     "metadata": {},
     "output_type": "execute_result"
    }
   ],
   "source": [
    "df = pd.DataFrame(data,columns = ['filename','width','height','name','xmin','xmax','ymin','ymax'])\n",
    "df.head()"
   ]
  },
  {
   "cell_type": "code",
   "execution_count": 95,
   "metadata": {},
   "outputs": [
    {
     "data": {
      "text/plain": [
       "name\n",
       "luvas       807\n",
       "capacete    539\n",
       "mascara     471\n",
       "oculos      261\n",
       "Name: count, dtype: int64"
      ]
     },
     "execution_count": 95,
     "metadata": {},
     "output_type": "execute_result"
    }
   ],
   "source": [
    "df['name'].value_counts()"
   ]
  },
  {
   "cell_type": "code",
   "execution_count": 96,
   "metadata": {},
   "outputs": [
    {
     "name": "stdout",
     "output_type": "stream",
     "text": [
      "<class 'pandas.core.frame.DataFrame'>\n",
      "RangeIndex: 2078 entries, 0 to 2077\n",
      "Data columns (total 8 columns):\n",
      " #   Column    Non-Null Count  Dtype \n",
      "---  ------    --------------  ----- \n",
      " 0   filename  2078 non-null   object\n",
      " 1   width     2078 non-null   int32 \n",
      " 2   height    2078 non-null   int32 \n",
      " 3   name      2078 non-null   object\n",
      " 4   xmin      2078 non-null   int32 \n",
      " 5   xmax      2078 non-null   int32 \n",
      " 6   ymin      2078 non-null   int32 \n",
      " 7   ymax      2078 non-null   int32 \n",
      "dtypes: int32(6), object(2)\n",
      "memory usage: 81.3+ KB\n"
     ]
    }
   ],
   "source": [
    "cols = ['width','height','xmin','xmax','ymin','ymax']\n",
    "df[cols] = df[cols].astype(int)\n",
    "df.info()"
   ]
  },
  {
   "cell_type": "code",
   "execution_count": 97,
   "metadata": {},
   "outputs": [],
   "source": [
    "df['center_x'] = ((df['xmax']+df['xmin'])/2)/df['width']\n",
    "df['center_y'] = ((df['ymax']+df['ymin'])/2)/df['height']\n",
    "\n",
    "df['w'] = (df['xmax']-df['xmin'])/df['width']\n",
    "\n",
    "df['h'] = (df['ymax']-df['ymin'])/df['height']"
   ]
  },
  {
   "cell_type": "code",
   "execution_count": 98,
   "metadata": {},
   "outputs": [],
   "source": [
    "img_df = pd.DataFrame(images,columns=['filename'])\n",
    "img_train = tuple(img_df.sample(frac=0.8)['filename'])"
   ]
  },
  {
   "cell_type": "code",
   "execution_count": 99,
   "metadata": {},
   "outputs": [],
   "source": [
    "img_test = tuple(img_df.query(f'filename not in {img_train}')['filename']) # take rest 20% images"
   ]
  },
  {
   "cell_type": "code",
   "execution_count": 100,
   "metadata": {},
   "outputs": [],
   "source": [
    "train_df = df.query(f'filename in {img_train}')\n",
    "test_df = df.query(f'filename in {img_test}')"
   ]
  },
  {
   "cell_type": "code",
   "execution_count": 101,
   "metadata": {},
   "outputs": [],
   "source": [
    "def label_encoding(x):\n",
    "    labels = {'capacete':0, 'oculos':1, 'luvas':2, 'mascara':3}\n",
    "    return labels[x]"
   ]
  },
  {
   "cell_type": "code",
   "execution_count": 102,
   "metadata": {},
   "outputs": [
    {
     "name": "stderr",
     "output_type": "stream",
     "text": [
      "C:\\Users\\guiga\\AppData\\Local\\Temp\\ipykernel_18880\\3116627190.py:1: SettingWithCopyWarning: \n",
      "A value is trying to be set on a copy of a slice from a DataFrame.\n",
      "Try using .loc[row_indexer,col_indexer] = value instead\n",
      "\n",
      "See the caveats in the documentation: https://pandas.pydata.org/pandas-docs/stable/user_guide/indexing.html#returning-a-view-versus-a-copy\n",
      "  train_df['id'] = train_df['name'].apply(label_encoding)\n",
      "C:\\Users\\guiga\\AppData\\Local\\Temp\\ipykernel_18880\\3116627190.py:2: SettingWithCopyWarning: \n",
      "A value is trying to be set on a copy of a slice from a DataFrame.\n",
      "Try using .loc[row_indexer,col_indexer] = value instead\n",
      "\n",
      "See the caveats in the documentation: https://pandas.pydata.org/pandas-docs/stable/user_guide/indexing.html#returning-a-view-versus-a-copy\n",
      "  test_df['id'] = test_df['name'].apply(label_encoding)\n"
     ]
    }
   ],
   "source": [
    "train_df['id'] = train_df['name'].apply(label_encoding)\n",
    "test_df['id'] = test_df['name'].apply(label_encoding)"
   ]
  },
  {
   "cell_type": "code",
   "execution_count": 103,
   "metadata": {},
   "outputs": [],
   "source": [
    "cols = ['filename','id','center_x','center_y', 'w', 'h']\n",
    "groupby_obj_train = train_df[cols].groupby('filename')\n",
    "groupby_obj_test = test_df[cols].groupby('filename')"
   ]
  },
  {
   "cell_type": "code",
   "execution_count": 104,
   "metadata": {},
   "outputs": [],
   "source": [
    "def save_data(filename, folder_path, group_obj):\n",
    "    # move image\n",
    "    src = os.path.join('Imagens',filename)\n",
    "    dst = os.path.join(folder_path,filename)\n",
    "    move(src,dst)\n",
    "    \n",
    "    text_filename = os.path.join(folder_path,\n",
    "                                 os.path.splitext(filename)[0]+'.txt')\n",
    "    group_obj.get_group(filename).set_index('filename').to_csv(text_filename,sep=' ',index=False,header=False)"
   ]
  },
  {
   "cell_type": "code",
   "execution_count": 105,
   "metadata": {},
   "outputs": [
    {
     "name": "stdout",
     "output_type": "stream",
     "text": [
      "Unexpected exception formatting exception. Falling back to standard exception\n"
     ]
    },
    {
     "name": "stderr",
     "output_type": "stream",
     "text": [
      "Traceback (most recent call last):\n",
      "  File \"C:\\Users\\guiga\\AppData\\Local\\Programs\\Python\\Python39\\lib\\shutil.py\", line 803, in move\n",
      "    os.rename(src, real_dst)\n",
      "FileNotFoundError: [WinError 2] O sistema não pode encontrar o arquivo especificado: 'Imagens\\\\L_001.jpg' -> 'Imagens/train\\\\L_001.jpg'\n",
      "\n",
      "During handling of the above exception, another exception occurred:\n",
      "\n",
      "Traceback (most recent call last):\n",
      "  File \"c:\\Users\\guiga\\Documents\\Aplicativos\\Object_Detection_Yolo\\yolo_venv\\lib\\site-packages\\IPython\\core\\interactiveshell.py\", line 3508, in run_code\n",
      "  File \"C:\\Users\\guiga\\AppData\\Local\\Temp\\ipykernel_18880\\348021572.py\", line 2, in <module>\n",
      "    filename_series.apply(save_data,args=(train_folder,groupby_obj_train))\n",
      "  File \"c:\\Users\\guiga\\Documents\\Aplicativos\\Object_Detection_Yolo\\yolo_venv\\lib\\site-packages\\pandas\\core\\series.py\", line 4630, in apply\n",
      "    return SeriesApply(self, func, convert_dtype, args, kwargs).apply()\n",
      "  File \"c:\\Users\\guiga\\Documents\\Aplicativos\\Object_Detection_Yolo\\yolo_venv\\lib\\site-packages\\pandas\\core\\apply.py\", line 1025, in apply\n",
      "    return self.apply_standard()\n",
      "  File \"c:\\Users\\guiga\\Documents\\Aplicativos\\Object_Detection_Yolo\\yolo_venv\\lib\\site-packages\\pandas\\core\\apply.py\", line 1076, in apply_standard\n",
      "    mapped = lib.map_infer(\n",
      "  File \"pandas\\_libs\\lib.pyx\", line 2834, in pandas._libs.lib.map_infer\n",
      "  File \"c:\\Users\\guiga\\Documents\\Aplicativos\\Object_Detection_Yolo\\yolo_venv\\lib\\site-packages\\pandas\\core\\apply.py\", line 133, in f\n",
      "    return func(x, *args, **kwargs)\n",
      "  File \"C:\\Users\\guiga\\AppData\\Local\\Temp\\ipykernel_18880\\2093430566.py\", line 5, in save_data\n",
      "    move(src,dst)\n",
      "  File \"C:\\Users\\guiga\\AppData\\Local\\Programs\\Python\\Python39\\lib\\shutil.py\", line 817, in move\n",
      "    copy_function(src, real_dst)\n",
      "  File \"C:\\Users\\guiga\\AppData\\Local\\Programs\\Python\\Python39\\lib\\shutil.py\", line 432, in copy2\n",
      "    copyfile(src, dst, follow_symlinks=follow_symlinks)\n",
      "  File \"C:\\Users\\guiga\\AppData\\Local\\Programs\\Python\\Python39\\lib\\shutil.py\", line 261, in copyfile\n",
      "    with open(src, 'rb') as fsrc, open(dst, 'wb') as fdst:\n",
      "FileNotFoundError: [Errno 2] No such file or directory: 'Imagens\\\\L_001.jpg'\n",
      "\n",
      "During handling of the above exception, another exception occurred:\n",
      "\n",
      "Traceback (most recent call last):\n",
      "  File \"c:\\Users\\guiga\\Documents\\Aplicativos\\Object_Detection_Yolo\\yolo_venv\\lib\\site-packages\\pygments\\styles\\__init__.py\", line 89, in get_style_by_name\n",
      "ModuleNotFoundError: No module named 'pygments.styles.default'\n",
      "\n",
      "During handling of the above exception, another exception occurred:\n",
      "\n",
      "Traceback (most recent call last):\n",
      "  File \"c:\\Users\\guiga\\Documents\\Aplicativos\\Object_Detection_Yolo\\yolo_venv\\lib\\site-packages\\IPython\\core\\interactiveshell.py\", line 2105, in showtraceback\n",
      "  File \"c:\\Users\\guiga\\Documents\\Aplicativos\\Object_Detection_Yolo\\yolo_venv\\lib\\site-packages\\IPython\\core\\ultratb.py\", line 1428, in structured_traceback\n",
      "  File \"c:\\Users\\guiga\\Documents\\Aplicativos\\Object_Detection_Yolo\\yolo_venv\\lib\\site-packages\\IPython\\core\\ultratb.py\", line 1319, in structured_traceback\n",
      "  File \"c:\\Users\\guiga\\Documents\\Aplicativos\\Object_Detection_Yolo\\yolo_venv\\lib\\site-packages\\IPython\\core\\ultratb.py\", line 1172, in structured_traceback\n",
      "  File \"c:\\Users\\guiga\\Documents\\Aplicativos\\Object_Detection_Yolo\\yolo_venv\\lib\\site-packages\\IPython\\core\\ultratb.py\", line 1062, in format_exception_as_a_whole\n",
      "  File \"c:\\Users\\guiga\\Documents\\Aplicativos\\Object_Detection_Yolo\\yolo_venv\\lib\\site-packages\\IPython\\core\\ultratb.py\", line 1113, in get_records\n",
      "  File \"c:\\Users\\guiga\\Documents\\Aplicativos\\Object_Detection_Yolo\\yolo_venv\\lib\\site-packages\\pygments\\styles\\__init__.py\", line 91, in get_style_by_name\n",
      "pygments.util.ClassNotFound: Could not find style module 'default', though it should be builtin.\n"
     ]
    }
   ],
   "source": [
    "filename_series = pd.Series(groupby_obj_train.groups.keys())\n",
    "filename_series.apply(save_data,args=(train_folder,groupby_obj_train))"
   ]
  },
  {
   "cell_type": "code",
   "execution_count": 106,
   "metadata": {},
   "outputs": [
    {
     "name": "stdout",
     "output_type": "stream",
     "text": [
      "Unexpected exception formatting exception. Falling back to standard exception\n"
     ]
    },
    {
     "name": "stderr",
     "output_type": "stream",
     "text": [
      "Traceback (most recent call last):\n",
      "  File \"C:\\Users\\guiga\\AppData\\Local\\Programs\\Python\\Python39\\lib\\shutil.py\", line 803, in move\n",
      "    os.rename(src, real_dst)\n",
      "FileNotFoundError: [WinError 2] O sistema não pode encontrar o arquivo especificado: 'Imagens\\\\L_006.jpg' -> 'Imagens/test\\\\L_006.jpg'\n",
      "\n",
      "During handling of the above exception, another exception occurred:\n",
      "\n",
      "Traceback (most recent call last):\n",
      "  File \"c:\\Users\\guiga\\Documents\\Aplicativos\\Object_Detection_Yolo\\yolo_venv\\lib\\site-packages\\IPython\\core\\interactiveshell.py\", line 3508, in run_code\n",
      "  File \"C:\\Users\\guiga\\AppData\\Local\\Temp\\ipykernel_18880\\2966118263.py\", line 2, in <module>\n",
      "    filename_series_test.apply(save_data,args=(test_folder,groupby_obj_test))\n",
      "  File \"c:\\Users\\guiga\\Documents\\Aplicativos\\Object_Detection_Yolo\\yolo_venv\\lib\\site-packages\\pandas\\core\\series.py\", line 4630, in apply\n",
      "    return SeriesApply(self, func, convert_dtype, args, kwargs).apply()\n",
      "  File \"c:\\Users\\guiga\\Documents\\Aplicativos\\Object_Detection_Yolo\\yolo_venv\\lib\\site-packages\\pandas\\core\\apply.py\", line 1025, in apply\n",
      "    return self.apply_standard()\n",
      "  File \"c:\\Users\\guiga\\Documents\\Aplicativos\\Object_Detection_Yolo\\yolo_venv\\lib\\site-packages\\pandas\\core\\apply.py\", line 1076, in apply_standard\n",
      "    mapped = lib.map_infer(\n",
      "  File \"pandas\\_libs\\lib.pyx\", line 2834, in pandas._libs.lib.map_infer\n",
      "  File \"c:\\Users\\guiga\\Documents\\Aplicativos\\Object_Detection_Yolo\\yolo_venv\\lib\\site-packages\\pandas\\core\\apply.py\", line 133, in f\n",
      "    return func(x, *args, **kwargs)\n",
      "  File \"C:\\Users\\guiga\\AppData\\Local\\Temp\\ipykernel_18880\\2093430566.py\", line 5, in save_data\n",
      "    move(src,dst)\n",
      "  File \"C:\\Users\\guiga\\AppData\\Local\\Programs\\Python\\Python39\\lib\\shutil.py\", line 817, in move\n",
      "    copy_function(src, real_dst)\n",
      "  File \"C:\\Users\\guiga\\AppData\\Local\\Programs\\Python\\Python39\\lib\\shutil.py\", line 432, in copy2\n",
      "    copyfile(src, dst, follow_symlinks=follow_symlinks)\n",
      "  File \"C:\\Users\\guiga\\AppData\\Local\\Programs\\Python\\Python39\\lib\\shutil.py\", line 261, in copyfile\n",
      "    with open(src, 'rb') as fsrc, open(dst, 'wb') as fdst:\n",
      "FileNotFoundError: [Errno 2] No such file or directory: 'Imagens\\\\L_006.jpg'\n",
      "\n",
      "During handling of the above exception, another exception occurred:\n",
      "\n",
      "Traceback (most recent call last):\n",
      "  File \"c:\\Users\\guiga\\Documents\\Aplicativos\\Object_Detection_Yolo\\yolo_venv\\lib\\site-packages\\pygments\\styles\\__init__.py\", line 89, in get_style_by_name\n",
      "ModuleNotFoundError: No module named 'pygments.styles.default'\n",
      "\n",
      "During handling of the above exception, another exception occurred:\n",
      "\n",
      "Traceback (most recent call last):\n",
      "  File \"c:\\Users\\guiga\\Documents\\Aplicativos\\Object_Detection_Yolo\\yolo_venv\\lib\\site-packages\\IPython\\core\\interactiveshell.py\", line 2105, in showtraceback\n",
      "  File \"c:\\Users\\guiga\\Documents\\Aplicativos\\Object_Detection_Yolo\\yolo_venv\\lib\\site-packages\\IPython\\core\\ultratb.py\", line 1428, in structured_traceback\n",
      "  File \"c:\\Users\\guiga\\Documents\\Aplicativos\\Object_Detection_Yolo\\yolo_venv\\lib\\site-packages\\IPython\\core\\ultratb.py\", line 1319, in structured_traceback\n",
      "  File \"c:\\Users\\guiga\\Documents\\Aplicativos\\Object_Detection_Yolo\\yolo_venv\\lib\\site-packages\\IPython\\core\\ultratb.py\", line 1172, in structured_traceback\n",
      "  File \"c:\\Users\\guiga\\Documents\\Aplicativos\\Object_Detection_Yolo\\yolo_venv\\lib\\site-packages\\IPython\\core\\ultratb.py\", line 1062, in format_exception_as_a_whole\n",
      "  File \"c:\\Users\\guiga\\Documents\\Aplicativos\\Object_Detection_Yolo\\yolo_venv\\lib\\site-packages\\IPython\\core\\ultratb.py\", line 1113, in get_records\n",
      "  File \"c:\\Users\\guiga\\Documents\\Aplicativos\\Object_Detection_Yolo\\yolo_venv\\lib\\site-packages\\pygments\\styles\\__init__.py\", line 91, in get_style_by_name\n",
      "pygments.util.ClassNotFound: Could not find style module 'default', though it should be builtin.\n"
     ]
    }
   ],
   "source": [
    "filename_series_test = pd.Series(groupby_obj_test.groups.keys())\n",
    "filename_series_test.apply(save_data,args=(test_folder,groupby_obj_test))"
   ]
  }
 ],
 "metadata": {
  "kernelspec": {
   "display_name": "yolo_venv",
   "language": "python",
   "name": "python3"
  },
  "language_info": {
   "codemirror_mode": {
    "name": "ipython",
    "version": 3
   },
   "file_extension": ".py",
   "mimetype": "text/x-python",
   "name": "python",
   "nbconvert_exporter": "python",
   "pygments_lexer": "ipython3",
   "version": "3.9.0"
  },
  "orig_nbformat": 4
 },
 "nbformat": 4,
 "nbformat_minor": 2
}
